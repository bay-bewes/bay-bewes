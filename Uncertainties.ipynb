{
  "nbformat": 4,
  "nbformat_minor": 0,
  "metadata": {
    "kernelspec": {
      "display_name": "Python 3",
      "language": "python",
      "name": "python3"
    },
    "language_info": {
      "codemirror_mode": {
        "name": "ipython",
        "version": 3
      },
      "file_extension": ".py",
      "mimetype": "text/x-python",
      "name": "python",
      "nbconvert_exporter": "python",
      "pygments_lexer": "ipython3",
      "version": "3.7.10"
    },
    "colab": {
      "name": "Uncertainties.ipynb",
      "provenance": []
    }
  },
  "cells": [
    {
      "cell_type": "markdown",
      "metadata": {
        "id": "sAZi2ybOyB5u"
      },
      "source": [
        "# Feedback from previous weeks and other and hints\n",
        "\n",
        "1. Be careful about your environment remembering variables. Make sure your code works in a new _clean_ environment. In Colab: `Runtime`->`restart Runtime`, in Anaconda's Jupyter: `Kernel`->`Restart`.\n",
        "2. Graphs without labels (or units when appropriate) are not worth any point.\n",
        "3. Do put in sufficient explanatory comments in your code.\n",
        "4. Functions are very important. Do look up the video on the Safari O'Reilly ressource if you are still not clear on them !\n",
        "\n",
        "For this week you can use these imports at the start of your programs:"
      ]
    },
    {
      "cell_type": "code",
      "metadata": {
        "id": "ZsGdfq0XyB55"
      },
      "source": [
        "import numpy as np\n",
        "import matplotlib.pyplot as plt"
      ],
      "execution_count": 1,
      "outputs": []
    },
    {
      "cell_type": "markdown",
      "metadata": {
        "id": "r_bnLnboyB58"
      },
      "source": [
        "We will use a new module `uncertainties`, which is **not** standard in the colab environment. You will have to first run:"
      ]
    },
    {
      "cell_type": "code",
      "metadata": {
        "id": "e2bt-G3vyB59",
        "outputId": "4eea87c2-82bc-40ab-c5b0-a57391a33037",
        "colab": {
          "base_uri": "https://localhost:8080/"
        }
      },
      "source": [
        "! pip install -q uncertainties"
      ],
      "execution_count": 2,
      "outputs": [
        {
          "output_type": "stream",
          "name": "stdout",
          "text": [
            "\u001b[?25l\r\u001b[K     |███▍                            | 10 kB 14.9 MB/s eta 0:00:01\r\u001b[K     |██████▊                         | 20 kB 13.2 MB/s eta 0:00:01\r\u001b[K     |██████████                      | 30 kB 10.4 MB/s eta 0:00:01\r\u001b[K     |█████████████▍                  | 40 kB 9.5 MB/s eta 0:00:01\r\u001b[K     |████████████████▊               | 51 kB 5.2 MB/s eta 0:00:01\r\u001b[K     |████████████████████            | 61 kB 5.6 MB/s eta 0:00:01\r\u001b[K     |███████████████████████▍        | 71 kB 5.6 MB/s eta 0:00:01\r\u001b[K     |██████████████████████████▊     | 81 kB 6.3 MB/s eta 0:00:01\r\u001b[K     |██████████████████████████████  | 92 kB 6.1 MB/s eta 0:00:01\r\u001b[K     |████████████████████████████████| 98 kB 3.5 MB/s \n",
            "\u001b[?25h"
          ]
        }
      ]
    },
    {
      "cell_type": "markdown",
      "metadata": {
        "id": "EXCIpdH2yB5-"
      },
      "source": [
        "To install the module before you can import it:"
      ]
    },
    {
      "cell_type": "code",
      "metadata": {
        "id": "rxUa5vjGyB5_"
      },
      "source": [
        "import uncertainties as uc\n",
        "import uncertainties.umath as um # for maths functions"
      ],
      "execution_count": 4,
      "outputs": []
    },
    {
      "cell_type": "markdown",
      "metadata": {
        "id": "DGhlaKlnyB6A"
      },
      "source": [
        "# Introduction\n",
        "In the practical classes PX2133/PX2233 and PX2338 (Obs tech), as well as your year 3/4 project, a lot of emphasis is placed on the determination and mathematical handling of errors.\n",
        "The uncertainties module allows us to deal very easily with [error propagation](https://en.wikipedia.org/wiki/Propagation_of_uncertainty). For this sheet you should remind yourself about error bars in measurements and about propagation of uncertainties. Take an example from your lab handbook:\n",
        "\n",
        "**Example 1**: If the length of a rectangle is $1.24\\pm0.02 m$ and its breadth is $0.61\\pm0.01 m$, what is its area and the error in the area? The following code snippet solves this problem in a few lines."
      ]
    },
    {
      "cell_type": "code",
      "metadata": {
        "id": "UV8Tk7owyB6C",
        "outputId": "6ee8faab-f64c-440d-aa3f-341e8a6fd8ae"
      },
      "source": [
        "L = uc.ufloat(1.24, 0.02)\n",
        "W = uc.ufloat(0.61, 0.01)\n",
        "print ('Area is:', L*W, 'm^2') # Do remember to add the units when printing!"
      ],
      "execution_count": null,
      "outputs": [
        {
          "name": "stdout",
          "output_type": "stream",
          "text": [
            "Area is: 0.756+/-0.017 m^2\n"
          ]
        }
      ]
    },
    {
      "cell_type": "markdown",
      "metadata": {
        "id": "u6JvUXN-yB6F"
      },
      "source": [
        "**Note**: For the area itself, it's fairly straightforward:"
      ]
    },
    {
      "cell_type": "code",
      "metadata": {
        "id": "yvqGEnXcyB6H",
        "outputId": "081eafe2-b297-42c9-9e11-6d4341466a11"
      },
      "source": [
        "1.24*0.61"
      ],
      "execution_count": null,
      "outputs": [
        {
          "data": {
            "text/plain": [
              "0.7564"
            ]
          },
          "execution_count": 5,
          "metadata": {},
          "output_type": "execute_result"
        }
      ]
    },
    {
      "cell_type": "markdown",
      "metadata": {
        "id": "BmGdHMboyB6J"
      },
      "source": [
        "However, for the error bar on this number:"
      ]
    },
    {
      "cell_type": "code",
      "metadata": {
        "id": "QcAl7N6tyB6K",
        "outputId": "55713597-044e-4746-f8d6-340cdfcc0c36"
      },
      "source": [
        "0.02*0.01"
      ],
      "execution_count": null,
      "outputs": [
        {
          "data": {
            "text/plain": [
              "0.0002"
            ]
          },
          "execution_count": 6,
          "metadata": {},
          "output_type": "execute_result"
        }
      ]
    },
    {
      "cell_type": "markdown",
      "metadata": {
        "id": "6xISitcFyB6L"
      },
      "source": [
        "does not work. Instead, the [error progation formula](https://en.wikipedia.org/wiki/Propagation_of_uncertainty#Example_formulae) gives:"
      ]
    },
    {
      "cell_type": "code",
      "metadata": {
        "id": "uoaNDY5SyB6L",
        "outputId": "cc240822-03e4-4562-8a89-99c308af3f7e"
      },
      "source": [
        "np.abs(1.24*0.61)*np.sqrt((0.02/1.24)**2+(0.01/0.61)**2)"
      ],
      "execution_count": null,
      "outputs": [
        {
          "data": {
            "text/plain": [
              "0.01739540169125163"
            ]
          },
          "execution_count": 7,
          "metadata": {},
          "output_type": "execute_result"
        }
      ]
    },
    {
      "cell_type": "markdown",
      "metadata": {
        "id": "JFWYoXgmyB6M"
      },
      "source": [
        "So the area is $0.756\\pm0.017 m^2$. `uncertainties` obviously saves a lot of work, even for such a simple case. You can also take a look at the web site uncertainties hosted at https://pythonhosted.org/uncertainties/user_guide.html. In particular, [this section](https://pythonhosted.org/uncertainties/user_guide.html#access-to-the-uncertainty-and-to-the-nominal-value) shows some of the properties of a `ufloat` you can access directly.\n",
        "\n",
        "**Example 2**: A reference object is $10.0\\pm0.0001 m$ long, and makes a viewing angle of $0.62\\pm0.02 rad$. How far is it?"
      ]
    },
    {
      "cell_type": "code",
      "metadata": {
        "id": "3MG3bvtoyB6N",
        "outputId": "565b7c7e-c44f-4f00-e832-15fb68ca79cd"
      },
      "source": [
        "L = uc.ufloat(10.0, 0.0001)\n",
        "theta = uc.ufloat(0.62,0.02)\n",
        "\n",
        "Distance = (L/2)/um.tan(theta/2)\n",
        "\n",
        "print ('Distance is:', Distance.nominal_value, 'm, with an error of:', Distance.std_dev)"
      ],
      "execution_count": null,
      "outputs": [
        {
          "name": "stdout",
          "output_type": "stream",
          "text": [
            "Distance is: 15.609024890896208 m, with an error of: 0.537283338762715\n"
          ]
        }
      ]
    },
    {
      "cell_type": "markdown",
      "metadata": {
        "id": "eB8-TSY0yB6O"
      },
      "source": [
        "Note the need to use \"umath\" functions (like `um.tan()` instead of `np.tan()`), and how to get the nominal value and the standard deviation of the uncertainties objects. To get nicer looking output, such as controlling the number of significant digits printed, you can use the information about formatting at https://docs.python.org/3/tutorial/inputoutput.html. In the exercises below you need to print the values to the screen. (Don’t forget units.)"
      ]
    },
    {
      "cell_type": "markdown",
      "metadata": {
        "id": "aqUc0Tx7yB6P"
      },
      "source": [
        "# Exercises\n",
        "This must be marked before you leave the lab. Mark weighting is in brackets.\n",
        "**Save your work to GitHub after having run all cells with `Runtime` -> `Restart and run all`. And do not change the notebook's filename.** Do add comments to your code, you'll lose points if your code is hard to understand. Graphs without labels (or units when appropriate) are not worth any point.\n",
        "\n",
        "## Exercise 0\n",
        "[0] With some approximations, we have measured the mass of the following black-holes:\n",
        "```\n",
        "\"35.6+/-3.9\",\"30.6+/-3.7\",\"63.1+/-3.2\",\"23.2+/-9.8\",\"13.6+/-4.5\",\"35.7+/-6.8\",\"13.7+/-6.0\",\"7.7+/-2.4\",\"20.5+/-4.0\"\n",
        "```\n",
        "Compute for each (with error-bars) their lifetime due to Hawking radiation:\n",
        "$$\n",
        "t = \\left(\\frac{M}{M_{\\odot}}\\right)^3\\,\\times\\,2.097\\,\\times\\,10^{67} yr\n",
        "$$\n",
        "\n",
        "(this exercise is for demonstration purposes and won't be marked)"
      ]
    },
    {
      "cell_type": "code",
      "metadata": {
        "id": "w9HJSStZyB6Q"
      },
      "source": [
        ""
      ],
      "execution_count": null,
      "outputs": []
    },
    {
      "cell_type": "markdown",
      "metadata": {
        "id": "MdiPbsTvyB6R"
      },
      "source": [
        "## Exercise 1\n",
        "[2] An object is measured to travel a distance $x = 5.1 \\pm 0.4 m$ during a time of $t = 0.4 \\pm 0.1 s$. What is the average velocity and the error in the average velocity?"
      ]
    },
    {
      "cell_type": "code",
      "metadata": {
        "id": "ZhyYoGgEyB6S",
        "outputId": "557b8586-9659-4fdc-a119-49d189c5b5f7",
        "colab": {
          "base_uri": "https://localhost:8080/"
        }
      },
      "source": [
        "x=uc.ufloat(5.1,0.4)\n",
        "t=uc.ufloat(0.4,0.1)\n",
        "velocity=x/t \n",
        "print(\"The velocity is\",velocity.nominal_value,\"m/s with an error of\",velocity.std_dev)"
      ],
      "execution_count": 5,
      "outputs": [
        {
          "output_type": "stream",
          "name": "stdout",
          "text": [
            "The velocity is 12.749999999999998 m/s with an error of 3.3406820037231912\n"
          ]
        }
      ]
    },
    {
      "cell_type": "markdown",
      "metadata": {
        "id": "8o19WlK5yB6S"
      },
      "source": [
        "## Exercise 2\n",
        "[2] An enterprising cow attempts to jump over the moon by jumping vertically into the air with initial speed $v_0=4.0\\pm0.2 m/s$. After a time $t=0.60\\pm0.06s$, the height of the cow is $h = v_0t-\\frac{1}{2}g t^2 = 0.636 m$. What is the uncertainty in $h$? Take $g$ as exactly $9.81 ms^{-2}$."
      ]
    },
    {
      "cell_type": "code",
      "metadata": {
        "id": "SMXiGZrYyB6T",
        "outputId": "bdf1bb0a-0dc3-4710-b8f4-f787e5323f1e",
        "colab": {
          "base_uri": "https://localhost:8080/"
        }
      },
      "source": [
        "v0=uc.ufloat(4,0.2) #given values\n",
        "t2=uc.ufloat(0.6,0.06)\n",
        "g=9.81\n",
        "h=(v0*t2)-(1/2)*g*(t2**2) #equation\n",
        "print(\"The height has an uncertainty of\",h.std_dev)"
      ],
      "execution_count": 31,
      "outputs": [
        {
          "output_type": "stream",
          "name": "stdout",
          "text": [
            "The height has an uncertainty of 0.1649399454346945\n"
          ]
        }
      ]
    },
    {
      "cell_type": "markdown",
      "metadata": {
        "id": "ExNFcDN3yB6T"
      },
      "source": [
        "## Exercise 3\n",
        "[2] In an optics experiment the object distance $u$ is measured to be 20cm and the image distance $v$ is 10cm, both to an accuracy of 0.5cm. Find the focal length $f$ of the lens using the formula:\n",
        "\n",
        "$$ \\frac{1}{u}+\\frac{1}{v}=\\frac{1}{f}$$"
      ]
    },
    {
      "cell_type": "code",
      "metadata": {
        "id": "gX_qLc2ryB6U",
        "outputId": "248d7f1b-1b7a-4151-c627-0809c92c4d74",
        "colab": {
          "base_uri": "https://localhost:8080/"
        }
      },
      "source": [
        "u=uc.ufloat(0.2,0.005) #given values \n",
        "v=uc.ufloat(0.1,0.005)\n",
        "\n",
        "f=1/((1/u)+(1/v)) #equation\n",
        "print(\"The focal length f is\",f.nominal_value,\"with an error of\",f.std_dev)"
      ],
      "execution_count": 11,
      "outputs": [
        {
          "output_type": "stream",
          "name": "stdout",
          "text": [
            "The focal length f is 0.06666666666666667 with an error of 0.0022906142364542553\n"
          ]
        }
      ]
    },
    {
      "cell_type": "markdown",
      "metadata": {
        "id": "hf1XFYepyB6U"
      },
      "source": [
        "## Exercise 4\n",
        "[2] Two students each measure the refractive index of water. Jack measures a value of $1.33 \\pm 0.03$ while Jill measures $1.28 \\pm 0.02$. Are these values in agreement? *You do have to think a bit about this one...*"
      ]
    },
    {
      "cell_type": "code",
      "metadata": {
        "id": "TEIxDwskyB6V"
      },
      "source": [
        "#Yes the 2 students are in agreement bc the range of Jack's anser is between 1.30-1.36 and Jill's is between 1.26 and 1.30 which, although small\n",
        "#has a slight overlap at 1.30 and as the standard deviation doesnt account for all of it the lower part past jack's uncertainties and higher part\n",
        "#past jills uncertainties will overlap even more "
      ],
      "execution_count": null,
      "outputs": []
    },
    {
      "cell_type": "markdown",
      "metadata": {
        "id": "U_JdCOzuyB6W"
      },
      "source": [
        "## Exercise 5\n",
        "[2] The damped resonance frequency $\\omega_{res}$ of an oscillating system is related to the (un-damped) natural angular frequency $\\omega_0$ and the damping coefficient $\\alpha$ by: \n",
        "\n",
        "$$\\omega_{res} = \\sqrt{ \\omega_0^2 - 2\\alpha^2}$$\n",
        "\n",
        "Find $f_0$ if the measured resonance frequency $f_{res}$ is $23.2\\pm0.1 Hz$ and the measured damping coefficient is $19.5\\pm0.5s^{-1}$.\n"
      ]
    },
    {
      "cell_type": "code",
      "metadata": {
        "id": "puxhb6ZpyB6X",
        "outputId": "2ad28bb6-271a-43d8-d8c2-ad8e73ea48f9",
        "colab": {
          "base_uri": "https://localhost:8080/"
        }
      },
      "source": [
        "fres=uc.ufloat(23.2,0.1) #given values\n",
        "alpha=uc.ufloat(19.5,0.5)\n",
        "wres=(2*pi)*fres #convert fres to wres\n",
        "w0=um.sqrt((wres**2)+2*(alpha**2)) #rearranged to get w0\n",
        "f0=w0/(2*pi) #convert w0 to f0\n",
        "print(\"The initial resonance frequency is\",f0.nominal_value,\"Hz witth an error of\",f0.std_dev)\n"
      ],
      "execution_count": 34,
      "outputs": [
        {
          "output_type": "stream",
          "name": "stdout",
          "text": [
            "The initial resonance frequency is 23.61151604704788 Hz witth an error of 0.10045939540089985\n"
          ]
        }
      ]
    },
    {
      "cell_type": "markdown",
      "metadata": {
        "id": "Emw2BnGUyB6Y"
      },
      "source": [
        "## Exercise 6\n",
        "[2] Suppose you have the following equation from one of your lab experiments:\n",
        "\n",
        "$$f=\\frac{c}{2}\\sqrt{\\frac{n_x^2}{L_x^2}+\\frac{n_y^2}{L_y^2}+\\frac{n_z^2}{L_z^2}}$$\n",
        "\n",
        "where $f$ is the resonant frequency of sound waves in a box of sides $L_x$, $L_y$ and $L_z$ in length and the $n_x$ etc. are integers. $L_x = 10.2\\pm0.2m$, $L_y = 5.2\\pm0.3m$ and $L_z = 20.0\\pm0.1 m$, while $c = 331.3 + T * 0.606 \\,m\\,s^{-1}$ is the temperature-dependent speed of sound, and the temperature $T$ is $23 \\pm 1^\\circ C$.\n",
        "Calculate $f$ and the error in $f$ for the following values of $(nx,ny,nz)= (1,1,1), (1,1,2)$ and $(2,1,1)$.\n"
      ]
    },
    {
      "cell_type": "code",
      "metadata": {
        "id": "tq1fIi7PyB6Y",
        "outputId": "0163ae4f-98c3-4f28-f4a2-9a5fae47da7c",
        "colab": {
          "base_uri": "https://localhost:8080/"
        }
      },
      "source": [
        "lx=uc.ufloat(10.2,0.2) #Ls and T\n",
        "ly=uc.ufloat(5.2,0.3)\n",
        "lz=uc.ufloat(20,0.1)\n",
        "\n",
        "T=uc.ufloat(23,1)\n",
        "\n",
        "c=331.3+T*(0.606) #value of C given T\n",
        "\n",
        "nx1=1   #n values (either 1 or 2)\n",
        "nx2=2\n",
        "ny=1\n",
        "nz1=1\n",
        "nz2=2\n",
        "\n",
        "f1=(c/2)*um.sqrt(((nx1**2)/lx**2)+((ny**2)/ly**2)+((nz1**2)/lz**2))  #f equations \n",
        "f2=(c/2)*um.sqrt(((nx1**2)/lx**2)+((ny**2)/ly**2)+((nz2**2)/lz**2))\n",
        "f3=(c/2)*um.sqrt(((nx2**2)/lx**2)+((ny**2)/ly**2)+((nz1**2)/lz**2))\n",
        "\n",
        "print(\"The value of f1(1,1,1) is\",f1.nominal_value,\"and its error is\",f1.std_dev)\n",
        "print(\"The value of f2(1,1,2) is\",f2.nominal_value,\"and its error is\",f2.std_dev)\n",
        "print(\"The value of f3(2,1,1) is\",f3.nominal_value,\"and its error is\",f3.std_dev)"
      ],
      "execution_count": 36,
      "outputs": [
        {
          "output_type": "stream",
          "name": "stdout",
          "text": [
            "The value of f1(1,1,1) is 38.24745337649154 and its error is 1.6700605379580133\n",
            "The value of f2(1,1,2) is 41.06516265028539 and its error is 1.5562781935426817\n",
            "The value of f3(2,1,1) is 48.18791630742113 and its error is 1.4018271041233974\n"
          ]
        }
      ]
    },
    {
      "cell_type": "markdown",
      "metadata": {
        "id": "8sb6WZIXyB6Z"
      },
      "source": [
        "## Exercise 7\n",
        "[4] The reflection coefficient $R_\\parallel$ for parallel plane-polarised light reflected from a surface is given by the equation:\n",
        "\n",
        "$$ R_\\parallel = \\frac{\\tan^2(\\theta_i - \\theta_t)}{\\tan^2(\\theta_i + \\theta_t)} $$\n",
        "\n",
        "Calculate the error in $R_\\parallel$ given measurements $\\theta_i = (78 \\pm 1)^\\circ$ and $\\theta_t = (40 \\pm 1)^\\circ$."
      ]
    },
    {
      "cell_type": "code",
      "metadata": {
        "id": "XJuR9WhAyB6Z",
        "outputId": "60098a2a-47ba-4e06-9a0b-ff6c088effac",
        "colab": {
          "base_uri": "https://localhost:8080/"
        }
      },
      "source": [
        "thetai=uc.ufloat(78,1) #given theta i\n",
        "thetair=(pi/180)*thetai #convert to rad\n",
        "thetat=uc.ufloat(40,1) #given theta t\n",
        "thetatr=(pi/180)*thetat #convert to rad\n",
        "\n",
        "R=(um.tan(thetair-thetatr)**2)/(um.tan(thetair+thetatr)**2) #R equation\n",
        "\n",
        "print(\"The reflection coefficient R is\",R.nominal_value,\"with an error of \",R.std_dev)"
      ],
      "execution_count": 43,
      "outputs": [
        {
          "output_type": "stream",
          "name": "stdout",
          "text": [
            "The reflection coefficient R is 0.172571231077181 with an error of  0.027031693118537856\n"
          ]
        }
      ]
    },
    {
      "cell_type": "markdown",
      "metadata": {
        "id": "WhAjPt7SyB6a"
      },
      "source": [
        "## Exercise 8\n",
        "[4] Calculate and print to the screen the fractional uncertainty, as a percentage to one\n",
        "significant figure, of the fluid flow discharge coefficient $C_d$ from the equation\n",
        "\n",
        "$$\n",
        "C_d = \\frac{\\dot{m}\\sqrt{1-\\left(\\frac{d}{D}\\right)^4}}{Kd^2F\\sqrt{\\rho\\Delta P}}\n",
        "$$\n",
        "\n",
        "where\n",
        "\n",
        "\\begin{align*}\n",
        "    C_d &= \\text{discharge coefficient}&& \\text{(no units)} \\\\\n",
        "    \\dot{m} &= \\text{mass flow rate}&& = 0.13 \\pm 0.01kg\\,s^{-1} \\\\\n",
        "    d &= \\text{orifice diameter}&& = 11\\pm 1 mm \\\\\n",
        "    D &= \\text{pipe diameter}&& = 71 \\pm 1 mm \\\\\n",
        "    \\rho &= \\text{fluid density}&& =1.01\\pm0.01g\\,cm^{-3} \\\\\n",
        "    \\Delta P &= \\text{differential pressure}&& =156 \\pm 7 Pa \\\\\n",
        "    K &= \\text{a constant parameter}&& =\\text{constant (no units)} \\\\\n",
        "    F &= \\text{thermal expansion factor}&& =\\text{constant (no units)}\n",
        "\\end{align*}\n"
      ]
    },
    {
      "cell_type": "code",
      "metadata": {
        "id": "WHTjlDO_yB6a",
        "outputId": "e656fe92-99c0-4638-ccf9-95cc0ac68d6e",
        "colab": {
          "base_uri": "https://localhost:8080/"
        }
      },
      "source": [
        "#constants removed\n",
        "m=uc.ufloat(0.13,0.01) #values given\n",
        "d=uc.ufloat(0.011,0.001) #converted to cm\n",
        "D=uc.ufloat(0.071,0.001)\n",
        "p=uc.ufloat(1010,1)\n",
        "deltap=uc.ufloat(156.7,7)\n",
        "#working out equation\n",
        "top=m*um.sqrt(1-(d/D)**4)\n",
        "bottom=(d**2)*um.sqrt(p*deltap)\n",
        "\n",
        "C=top/bottom\n",
        "fracuncert=C.std_dev/C.nominal_value\n",
        "print(\"The fractional uncertainty is\",fracuncert,\"as a percentage this is\",fracuncert*100)"
      ],
      "execution_count": 51,
      "outputs": [
        {
          "output_type": "stream",
          "name": "stdout",
          "text": [
            "The fractional uncertainty is 0.19877692095641938 as a percentage this is 19.877692095641937\n",
            "2.7+/-0.5\n"
          ]
        }
      ]
    },
    {
      "cell_type": "markdown",
      "metadata": {
        "id": "qLC48uyUyB6b"
      },
      "source": [
        "## Exercise 9: Optional problem (not marked)\n",
        "If you have time and want to try something interesting, do the following problem by plotting in 2D:\n",
        " - Draw an equilateral triangle with vertices and coordinates: vertex 1: $(p_1,q_1)$; vertex 2: $(p_2, q_2)$; vertex 3: $(p_3, q_3)$.\n",
        " - Place a dot at an arbitrary point $P = (x_0, y_0)$ within this triangle.\n",
        " - Find the next point by selecting randomly an integer $n = 1 , 2, $  or $3$ : \n",
        "    1. If 1 , place a dot halfway between P and vertex 1.\n",
        "    2. If 2 , place a dot halfway between P and vertex 2.\n",
        "    3. If 3 , place a dot halfway between P and vertex 3.\n",
        " - Repeat the last two steps using the last dot as the new P. \n",
        " \n",
        "Mathematically, the coordinates of successive points are given by the formulae \n",
        "\n",
        "$$(x_{i+1},y_{i+1})=0.5[(x_i,y_i)+(p_n,q_n)]$$\n",
        "\n",
        "and\n",
        "\n",
        "$$n=int(1+3r_i),$$\n",
        "\n",
        "where $r_i$ is a random number between 0 and 1 and where the $int()$ function outputs the closest integer smaller than or equal to the argument.\n",
        "\n",
        "Try extending this to four vertices."
      ]
    },
    {
      "cell_type": "code",
      "metadata": {
        "id": "OzheS1MUyB6b"
      },
      "source": [
        ""
      ],
      "execution_count": null,
      "outputs": []
    }
  ]
}